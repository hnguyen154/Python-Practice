{
 "cells": [
  {
   "cell_type": "markdown",
   "metadata": {},
   "source": [
    "# Instructions:\n",
    "\n",
    "1. Rename the notebook to Homework 1 - __*Your Name*__\n",
    "2. Type in your codes\n",
    "3. Turn in via email\n",
    "   - <u>Subject line:</u> __*Your Name*__ - Python Homework 1"
   ]
  },
  {
   "cell_type": "markdown",
   "metadata": {},
   "source": [
    "# Question 1:\n",
    "\n",
    "Remove 5<sup>th</sup> character from the String\n",
    "<blockquote> Original String: <b>Archa<u>e</u>opteryx</b> <br>\n",
    "Result String: <b>Archaopteryx</b> </blockquote>"
   ]
  },
  {
   "cell_type": "code",
   "execution_count": 77,
   "metadata": {},
   "outputs": [
    {
     "data": {
      "text/plain": [
       "'Archaopteryx'"
      ]
     },
     "execution_count": 77,
     "metadata": {},
     "output_type": "execute_result"
    }
   ],
   "source": [
    "str=\"Archaeopteryx\"\n",
    "\n",
    "s = str[0:5] + str[6:]\n",
    "\n",
    "s  "
   ]
  },
  {
   "cell_type": "markdown",
   "metadata": {},
   "source": [
    "# Question 2:\n",
    "\n",
    "Compute all multiples of 3 and 5 that are less than 100.\n",
    "\n",
    "*Hint: For Loop and If statement*\n",
    "\n",
    "Answer = 2318"
   ]
  },
  {
   "cell_type": "code",
   "execution_count": 12,
   "metadata": {},
   "outputs": [
    {
     "name": "stdout",
     "output_type": "stream",
     "text": [
      "2318\n"
     ]
    }
   ],
   "source": [
    "\n",
    "total = 0 #initialization\n",
    "\n",
    "for i in range(1,100):\n",
    "    if i % 3 == 0 or i % 5 == 0:\n",
    "        total= total + i\n",
    "print(total)\n"
   ]
  },
  {
   "cell_type": "markdown",
   "metadata": {},
   "source": [
    "# Question 3:\n",
    "\n",
    "Get the sum of all negative numbers.\n",
    "\n",
    "<blockquote> Given list of numbers: [7, 5, 4, 4, 3, 1, -2, -3, -5, -7] </blockquote>\n",
    "\n",
    "*Hint: While Loop*\n",
    "\n",
    "Answer = -17"
   ]
  },
  {
   "cell_type": "code",
   "execution_count": 14,
   "metadata": {},
   "outputs": [
    {
     "name": "stdout",
     "output_type": "stream",
     "text": [
      "-17\n"
     ]
    }
   ],
   "source": [
    "List = [7, 5, 4, 4, 3, 1, -2, -3, -5, -7]\n",
    "total=0\n",
    "\n",
    "for i in List:\n",
    "    if i<0:\n",
    "        total=total+i\n",
    "print(total)\n",
    "    "
   ]
  }
 ],
 "metadata": {
  "kernelspec": {
   "display_name": "Python 3",
   "language": "python",
   "name": "python3"
  },
  "language_info": {
   "codemirror_mode": {
    "name": "ipython",
    "version": 3
   },
   "file_extension": ".py",
   "mimetype": "text/x-python",
   "name": "python",
   "nbconvert_exporter": "python",
   "pygments_lexer": "ipython3",
   "version": "3.8.5"
  }
 },
 "nbformat": 4,
 "nbformat_minor": 4
}
