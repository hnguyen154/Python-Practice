{
 "cells": [
  {
   "cell_type": "markdown",
   "metadata": {},
   "source": [
    "# Instructions:\n",
    "\n",
    "1. Rename the notebook to Homework 1 - __*Your Name*__\n",
    "2. Type in your codes\n",
    "3. Turn in via email\n",
    "   - <u>Subject line:</u> __*Your Name*__ - Python Homework 1"
   ]
  },
  {
   "cell_type": "markdown",
   "metadata": {},
   "source": [
    "# Question 1:\n",
    "\n",
    "Remove 5<sup>th</sup> character from the String\n",
    "<blockquote> Original String: <b>Archa<u>e</u>opteryx</b> <br>\n",
    "Result String: <b>Archaopteryx</b> </blockquote>"
   ]
  },
  {
   "cell_type": "code",
   "execution_count": 14,
   "metadata": {},
   "outputs": [
    {
     "data": {
      "text/plain": [
       "'Archaopteryx'"
      ]
     },
     "execution_count": 14,
     "metadata": {},
     "output_type": "execute_result"
    }
   ],
   "source": [
    "# Your code HERE\n",
    "origString = 'Archaeopteryx'\n",
    "resultString = ''\n",
    "removeLetterPosition = 5\n",
    "\n",
    "resultString = origString[0:removeLetterPosition] + origString[(removeLetterPosition + 1):]\n",
    "resultString"
   ]
  },
  {
   "cell_type": "markdown",
   "metadata": {},
   "source": [
    "# Question 2:\n",
    "\n",
    "Compute all multiples of 3 and 5 that are less than 100.\n",
    "\n",
    "*Hint: For Loop and If statement*\n",
    "\n",
    "Answer = 2318"
   ]
  },
  {
   "cell_type": "code",
   "execution_count": 34,
   "metadata": {},
   "outputs": [
    {
     "name": "stdout",
     "output_type": "stream",
     "text": [
      "2318\n"
     ]
    }
   ],
   "source": [
    "# Your code HERE\n",
    "i = 0\n",
    "lastNum = 100\n",
    "total = 0\n",
    "\n",
    "for i in range(lastNum):\n",
    "    if (i % 3 == 0) | (i % 5 == 0):\n",
    "        total += i\n",
    "\n",
    "print(total)"
   ]
  },
  {
   "cell_type": "markdown",
   "metadata": {},
   "source": [
    "# Question 3:\n",
    "\n",
    "Get the sum of all negative numbers.\n",
    "\n",
    "<blockquote> Given list of numbers: [7, 5, 4, 4, 3, 1, -2, -3, -5, -7] </blockquote>\n",
    "\n",
    "*Hint: While Loop*\n",
    "\n",
    "Answer = -17"
   ]
  },
  {
   "cell_type": "code",
   "execution_count": 17,
   "metadata": {},
   "outputs": [
    {
     "name": "stdout",
     "output_type": "stream",
     "text": [
      "-17\n"
     ]
    }
   ],
   "source": [
    "# Your code HERE\n",
    "list_numbers = [7,5,4,4,3,1,-2,-3,-5,-7]\n",
    "i = 0\n",
    "total = 0\n",
    "\n",
    "while i < len(list_numbers):\n",
    "    if list_numbers[i] < 0:\n",
    "        total += list_numbers[i]\n",
    "    i += 1\n",
    "print(total)\n"
   ]
  }
 ],
 "metadata": {
  "kernelspec": {
   "display_name": "Python 3",
   "language": "python",
   "name": "python3"
  },
  "language_info": {
   "codemirror_mode": {
    "name": "ipython",
    "version": 3
   },
   "file_extension": ".py",
   "mimetype": "text/x-python",
   "name": "python",
   "nbconvert_exporter": "python",
   "pygments_lexer": "ipython3",
   "version": "3.8.5"
  }
 },
 "nbformat": 4,
 "nbformat_minor": 4
}
