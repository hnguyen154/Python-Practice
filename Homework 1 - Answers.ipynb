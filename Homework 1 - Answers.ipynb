{
 "cells": [
  {
   "cell_type": "markdown",
   "metadata": {},
   "source": [
    "# Instructions:\n",
    "\n",
    "1. Rename the notebook to Homework 2 - __*Your Name*__\n",
    "2. Type in your codes\n",
    "3. Turn in via email\n",
    "   - <u>Subject line:</u> __*Your Name*__ - Python Homework 2"
   ]
  },
  {
   "cell_type": "markdown",
   "metadata": {},
   "source": [
    "# Question 1:\n",
    "\n",
    "Remove 5<sup>th</sup> character from the String\n",
    "<blockquote> Original String: <b>Archa<u>e</u>opteryx</b> <br>\n",
    "Result String: <b>Archaopteryx</b> </blockquote>"
   ]
  },
  {
   "cell_type": "code",
   "execution_count": 8,
   "metadata": {},
   "outputs": [
    {
     "data": {
      "text/plain": [
       "'Archaopteryx'"
      ]
     },
     "execution_count": 8,
     "metadata": {},
     "output_type": "execute_result"
    }
   ],
   "source": [
    "text = 'Archaeopteryx'\n",
    "\n",
    "# Removing 1st occurrence of e \n",
    "result = text.replace('e', '', 1) \n",
    "result"
   ]
  },
  {
   "cell_type": "code",
   "execution_count": 10,
   "metadata": {},
   "outputs": [
    {
     "data": {
      "text/plain": [
       "'Archaopteryx'"
      ]
     },
     "execution_count": 10,
     "metadata": {},
     "output_type": "execute_result"
    }
   ],
   "source": [
    "# Slicing and Concatenation\n",
    "result = text[:5] + text[6:] \n",
    "result"
   ]
  },
  {
   "cell_type": "markdown",
   "metadata": {},
   "source": [
    "# Question 2:\n",
    "\n",
    "Compute all multiples of 3 and 5 that are less than 100.\n",
    "\n",
    "*Hint: For Loop and If statement*\n",
    "\n",
    "Answer = 2318"
   ]
  },
  {
   "cell_type": "code",
   "execution_count": 4,
   "metadata": {},
   "outputs": [
    {
     "name": "stdout",
     "output_type": "stream",
     "text": [
      "2318\n"
     ]
    }
   ],
   "source": [
    "# First Method - IF and ELIF\n",
    "\n",
    "total = 0\n",
    "for i in range(1, 100):\n",
    "    if (i % 3 == 0): \n",
    "        total = total + i\n",
    "    elif (i % 5 == 0):\n",
    "        total = total + i\n",
    "print(total)"
   ]
  },
  {
   "cell_type": "code",
   "execution_count": 3,
   "metadata": {},
   "outputs": [
    {
     "name": "stdout",
     "output_type": "stream",
     "text": [
      "2318\n"
     ]
    }
   ],
   "source": [
    "# Second Method - using OR logic\n",
    "\n",
    "total = 0\n",
    "for i in range(1, 100):\n",
    "    if (i % 3 == 0) | (i % 5 == 0):\n",
    "        total += i\n",
    "        \n",
    "print(total)"
   ]
  },
  {
   "cell_type": "markdown",
   "metadata": {},
   "source": [
    "# Question 3:\n",
    "\n",
    "Get the sum of all negative numbers.\n",
    "\n",
    "<blockquote> Given list of numbers: [7, 5, 4, 4, 3, 1, -2, -3, -5, -7] </blockquote>\n",
    "\n",
    "*Hint: While Loop*\n",
    "\n",
    "Answer = -17"
   ]
  },
  {
   "cell_type": "code",
   "execution_count": 11,
   "metadata": {},
   "outputs": [],
   "source": [
    "given_list = [7, 5, 4, 4, 3, 1, -2, -3, -5, -7]"
   ]
  },
  {
   "cell_type": "code",
   "execution_count": 13,
   "metadata": {
    "scrolled": true
   },
   "outputs": [
    {
     "name": "stdout",
     "output_type": "stream",
     "text": [
      "-17\n"
     ]
    }
   ],
   "source": [
    "total = 0\n",
    "\n",
    "i = len(given_list) - 1 # Start from last index\n",
    "\n",
    "while given_list[i] < 0:\n",
    "    total += given_list[i]\n",
    "    i -= 1 # Going backward\n",
    "\n",
    "print(total)"
   ]
  }
 ],
 "metadata": {
  "kernelspec": {
   "display_name": "Python 3",
   "language": "python",
   "name": "python3"
  },
  "language_info": {
   "codemirror_mode": {
    "name": "ipython",
    "version": 3
   },
   "file_extension": ".py",
   "mimetype": "text/x-python",
   "name": "python",
   "nbconvert_exporter": "python",
   "pygments_lexer": "ipython3",
   "version": "3.8.5"
  }
 },
 "nbformat": 4,
 "nbformat_minor": 4
}
